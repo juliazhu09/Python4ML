{
 "cells": [
  {
   "cell_type": "markdown",
   "metadata": {},
   "source": [
    "# Python for Machine learning\n",
    "\n",
    "### Xiaojuan Zhu\n",
    "### Rochelle Butler\n",
    "### OIT Research Computing Support\n",
    "### Help Desk: 865-974-9900 \n",
    "\n",
    "The basic idea of any machine learning model is to have a large number of inputs and the outputs. After analyzing more and more data, it tries to figure out the relationship between input and output.\n",
    "\n",
    "Consider a very simple example when you have to decide whether to wear a jacket or not based on the outside temperature. You have the data below and we call it training data. \n",
    "\n",
    "\n",
    "| Outside Temperature | Wear a Jacket |\n",
    "|---------------------|---------------|\n",
    "| 90°F                | No            |\n",
    "| 80°F                | No            |\n",
    "| 70°F                | No            |\n",
    "| 60°F                | Yes           |\n",
    "| 20°F                | Yes           |\n",
    "\n",
    "Somehow, we find out a connection between the input (temperature) and the output (decision to wear a jacket).\n",
    "If the temperature is 65°F, you would still wear a jacket although you were never told the outcome for that particular temperature.\n",
    "\n",
    "Now, let's move on to a simple regression problem which the computer will solve for us.\n",
    "Before we begin, we need to import the scikit-learn and yellowbrick package, scikit-learn provides easy to use functions and a lot of machine learning models and the yellowbrick package helps us visualize the machine learning model output. We will use them for today's workshop. \n",
    "\n",
    "```python\n",
    "# install scikit package using conda\n",
    "conda install -c conda-forge scikit-image\n",
    "# using pip\n",
    "pip install -U scikit-learn\n",
    "# install yellowbrick package using conda\n",
    "conda install -c districtdatalabs yellowbrick\n",
    "# using pip\n",
    "pip install yellowbrick\n",
    "```"
   ]
  },
  {
   "cell_type": "code",
   "execution_count": 1,
   "metadata": {},
   "outputs": [
    {
     "name": "stdout",
     "output_type": "stream",
     "text": [
      "sklearn version is:0.21.3\n",
      "yellowbrick version is:1.0.1\n"
     ]
    }
   ],
   "source": [
    "import sklearn\n",
    "import yellowbrick\n",
    "print(\"sklearn version is:\" + sklearn.__version__)\n",
    "print(\"yellowbrick version is:\" + yellowbrick.__version__)"
   ]
  },
  {
   "cell_type": "markdown",
   "metadata": {},
   "source": [
    "Sample Training Set\n",
    "Here, X is the input and y is the output.\n",
    "\n",
    "| x1 | x2 | y  |\n",
    "|----|----|----|\n",
    "| 1  | 2  | 5  |\n",
    "| 4  | 5  | 14 |\n",
    "| 11 | 12 | 35 |\n",
    "| 21 | 22 | 65 |\n",
    "| 5  | 5  | 15 |\n",
    "\n",
    "Given the training set you could easily guess that the output (y) is (x1 + 2````*````x2 ).\n",
    "\n",
    "## How to Generate a Data Set"
   ]
  },
  {
   "cell_type": "code",
   "execution_count": 41,
   "metadata": {},
   "outputs": [],
   "source": [
    "# import randint function from random package\n",
    "from random import randint\n",
    "import numpy as np\n",
    "\n",
    "# Create two empty list to storage training input and output data \n",
    "TrainInput = list()\n",
    "TrainOutput = list()\n",
    "# create error terms\n",
    "err = np.zeros(100)\n",
    "\n",
    "# err = np.random.normal(0, 10, 1000)\n",
    "\n",
    "# Generate 100 random set of x1 and x2\n",
    "for i in range(100):\n",
    "    x1 = randint(0, 1000) # generate random integers between 0 and 1000. \n",
    "    x2 = randint(0, 1000)\n",
    "    y = x1 + (2*x2) + err[i]\n",
    "    #append method is to add x1 and x2 to the Train list.\n",
    "    TrainInput.append([x1, x2]) \n",
    "    TrainOutput.append(y)"
   ]
  },
  {
   "cell_type": "code",
   "execution_count": 42,
   "metadata": {},
   "outputs": [
    {
     "data": {
      "text/plain": [
       "[[562, 778], [52, 573], [253, 227], [98, 249], [580, 203], [222, 59]]"
      ]
     },
     "execution_count": 42,
     "metadata": {},
     "output_type": "execute_result"
    }
   ],
   "source": [
    "TrainInput[0:6]"
   ]
  },
  {
   "cell_type": "code",
   "execution_count": 43,
   "metadata": {},
   "outputs": [
    {
     "data": {
      "text/plain": [
       "[2134.2867439494416,\n",
       " 1215.8414941532828,\n",
       " 711.8155967859067,\n",
       " 598.279907482666,\n",
       " 985.9078007990419,\n",
       " 353.5635445849215]"
      ]
     },
     "execution_count": 43,
     "metadata": {},
     "output_type": "execute_result"
    }
   ],
   "source": [
    "TrainOutput[0:6]"
   ]
  },
  {
   "cell_type": "markdown",
   "metadata": {},
   "source": [
    "## The Machine Learning Model: Linear Regression\n",
    "Working with linear regression model is simple. Create a model, train it and then test it.\n",
    "\n",
    "### Train the Model\n",
    "We have generated the training data already, so create a linear regression model and pass it the training data. \n"
   ]
  },
  {
   "cell_type": "code",
   "execution_count": 44,
   "metadata": {},
   "outputs": [
    {
     "name": "stdout",
     "output_type": "stream",
     "text": [
      "Coefficient : [1.00045114 1.99811993].\n",
      "Intercept: 0.5676558176076014\n"
     ]
    }
   ],
   "source": [
    "from sklearn.linear_model import LinearRegression\n",
    "# create a regression model\n",
    "model = \n",
    "# train the model by model.fit(TrainInput, TrainOutput)\n",
    "\n",
    "\n",
    "# get the coefficients and print out\n",
    "coefficient=model.coef_\n",
    "\n",
    "print('Coefficient : {}.'.format(coefficient))\n",
    "\n",
    "print ('Intercept: {}'.format(model.intercept_))"
   ]
  },
  {
   "cell_type": "markdown",
   "metadata": {},
   "source": [
    "### Test the Model using Test Data\n",
    "\n",
    "X = [[10, 20]]\n",
    "\n",
    "The outcome should be 10+2```*```20 =50. Let us see what we get."
   ]
  },
  {
   "cell_type": "code",
   "execution_count": 45,
   "metadata": {},
   "outputs": [
    {
     "name": "stdout",
     "output_type": "stream",
     "text": [
      "Outcome: [50.5345658]\n"
     ]
    }
   ],
   "source": [
    "# Test data\n",
    "Xtest =[[10, 20]]\n",
    "# test the model by predicting the test data model.predict(Xtest)\n",
    "Outcome = \n",
    "# print the outcome\n",
    "print('Outcome: {}'.format(Outcome))"
   ]
  },
  {
   "cell_type": "markdown",
   "metadata": {},
   "source": [
    "## Steps\n",
    "1. import the data and prepare/clean the data\n",
    "2. Split the data into training and test\n",
    "3. Create a model\n",
    "4. Train the model\n",
    "5. test the model \n",
    "6. Evaluate the model\n",
    "## Another Linear Regression Example\n",
    "\n",
    "Sales (in thousands of units) for a particular product as a function of advertising budgets (in thousands of dollars) for TV, radio, and newspaper media. Suppose that in our role as statistical consultants we are asked to suggest.\n",
    "1. We want to find a function that given input budgets for TV, radio and newspaper predicts the output sales.\n",
    "2. Which media contribute to sales?\n",
    "3. Visualize the relationship between the features and response. Note: In machine learning variables are usually called features.\n",
    "\n",
    "Reference: https://medium.com/simple-ai/linear-regression-intro-to-machine-learning-6-6e320dbdaf06"
   ]
  },
  {
   "cell_type": "code",
   "execution_count": 46,
   "metadata": {},
   "outputs": [
    {
     "data": {
      "text/html": [
       "<div>\n",
       "<style scoped>\n",
       "    .dataframe tbody tr th:only-of-type {\n",
       "        vertical-align: middle;\n",
       "    }\n",
       "\n",
       "    .dataframe tbody tr th {\n",
       "        vertical-align: top;\n",
       "    }\n",
       "\n",
       "    .dataframe thead th {\n",
       "        text-align: right;\n",
       "    }\n",
       "</style>\n",
       "<table border=\"1\" class=\"dataframe\">\n",
       "  <thead>\n",
       "    <tr style=\"text-align: right;\">\n",
       "      <th></th>\n",
       "      <th>TV</th>\n",
       "      <th>radio</th>\n",
       "      <th>newspaper</th>\n",
       "      <th>sales</th>\n",
       "    </tr>\n",
       "  </thead>\n",
       "  <tbody>\n",
       "    <tr>\n",
       "      <th>0</th>\n",
       "      <td>230.1</td>\n",
       "      <td>37.8</td>\n",
       "      <td>69.2</td>\n",
       "      <td>22.1</td>\n",
       "    </tr>\n",
       "    <tr>\n",
       "      <th>1</th>\n",
       "      <td>44.5</td>\n",
       "      <td>39.3</td>\n",
       "      <td>45.1</td>\n",
       "      <td>10.4</td>\n",
       "    </tr>\n",
       "    <tr>\n",
       "      <th>2</th>\n",
       "      <td>17.2</td>\n",
       "      <td>45.9</td>\n",
       "      <td>69.3</td>\n",
       "      <td>9.3</td>\n",
       "    </tr>\n",
       "    <tr>\n",
       "      <th>3</th>\n",
       "      <td>151.5</td>\n",
       "      <td>41.3</td>\n",
       "      <td>58.5</td>\n",
       "      <td>18.5</td>\n",
       "    </tr>\n",
       "    <tr>\n",
       "      <th>4</th>\n",
       "      <td>180.8</td>\n",
       "      <td>10.8</td>\n",
       "      <td>58.4</td>\n",
       "      <td>12.9</td>\n",
       "    </tr>\n",
       "    <tr>\n",
       "      <th>5</th>\n",
       "      <td>8.7</td>\n",
       "      <td>48.9</td>\n",
       "      <td>75.0</td>\n",
       "      <td>7.2</td>\n",
       "    </tr>\n",
       "    <tr>\n",
       "      <th>6</th>\n",
       "      <td>57.5</td>\n",
       "      <td>32.8</td>\n",
       "      <td>23.5</td>\n",
       "      <td>11.8</td>\n",
       "    </tr>\n",
       "    <tr>\n",
       "      <th>7</th>\n",
       "      <td>120.2</td>\n",
       "      <td>19.6</td>\n",
       "      <td>11.6</td>\n",
       "      <td>13.2</td>\n",
       "    </tr>\n",
       "    <tr>\n",
       "      <th>8</th>\n",
       "      <td>8.6</td>\n",
       "      <td>2.1</td>\n",
       "      <td>1.0</td>\n",
       "      <td>4.8</td>\n",
       "    </tr>\n",
       "    <tr>\n",
       "      <th>9</th>\n",
       "      <td>199.8</td>\n",
       "      <td>2.6</td>\n",
       "      <td>21.2</td>\n",
       "      <td>10.6</td>\n",
       "    </tr>\n",
       "  </tbody>\n",
       "</table>\n",
       "</div>"
      ],
      "text/plain": [
       "      TV  radio  newspaper  sales\n",
       "0  230.1   37.8       69.2   22.1\n",
       "1   44.5   39.3       45.1   10.4\n",
       "2   17.2   45.9       69.3    9.3\n",
       "3  151.5   41.3       58.5   18.5\n",
       "4  180.8   10.8       58.4   12.9\n",
       "5    8.7   48.9       75.0    7.2\n",
       "6   57.5   32.8       23.5   11.8\n",
       "7  120.2   19.6       11.6   13.2\n",
       "8    8.6    2.1        1.0    4.8\n",
       "9  199.8    2.6       21.2   10.6"
      ]
     },
     "execution_count": 46,
     "metadata": {},
     "output_type": "execute_result"
    }
   ],
   "source": [
    "#import the packages\n",
    "import pandas as pd\n",
    "#import the adversting.csv data\n",
    "data = pd.read_csv(\"Advertising.csv\")\n",
    "# view the first five rows of the data\n",
    "data.head(10)"
   ]
  },
  {
   "cell_type": "code",
   "execution_count": 47,
   "metadata": {},
   "outputs": [
    {
     "data": {
      "text/html": [
       "<div>\n",
       "<style scoped>\n",
       "    .dataframe tbody tr th:only-of-type {\n",
       "        vertical-align: middle;\n",
       "    }\n",
       "\n",
       "    .dataframe tbody tr th {\n",
       "        vertical-align: top;\n",
       "    }\n",
       "\n",
       "    .dataframe thead th {\n",
       "        text-align: right;\n",
       "    }\n",
       "</style>\n",
       "<table border=\"1\" class=\"dataframe\">\n",
       "  <thead>\n",
       "    <tr style=\"text-align: right;\">\n",
       "      <th></th>\n",
       "      <th>TV</th>\n",
       "      <th>radio</th>\n",
       "      <th>newspaper</th>\n",
       "      <th>sales</th>\n",
       "    </tr>\n",
       "  </thead>\n",
       "  <tbody>\n",
       "    <tr>\n",
       "      <th>count</th>\n",
       "      <td>200.000000</td>\n",
       "      <td>200.000000</td>\n",
       "      <td>200.000000</td>\n",
       "      <td>200.000000</td>\n",
       "    </tr>\n",
       "    <tr>\n",
       "      <th>mean</th>\n",
       "      <td>147.042500</td>\n",
       "      <td>23.264000</td>\n",
       "      <td>30.554000</td>\n",
       "      <td>14.022500</td>\n",
       "    </tr>\n",
       "    <tr>\n",
       "      <th>std</th>\n",
       "      <td>85.854236</td>\n",
       "      <td>14.846809</td>\n",
       "      <td>21.778621</td>\n",
       "      <td>5.217457</td>\n",
       "    </tr>\n",
       "    <tr>\n",
       "      <th>min</th>\n",
       "      <td>0.700000</td>\n",
       "      <td>0.000000</td>\n",
       "      <td>0.300000</td>\n",
       "      <td>1.600000</td>\n",
       "    </tr>\n",
       "    <tr>\n",
       "      <th>25%</th>\n",
       "      <td>74.375000</td>\n",
       "      <td>9.975000</td>\n",
       "      <td>12.750000</td>\n",
       "      <td>10.375000</td>\n",
       "    </tr>\n",
       "    <tr>\n",
       "      <th>50%</th>\n",
       "      <td>149.750000</td>\n",
       "      <td>22.900000</td>\n",
       "      <td>25.750000</td>\n",
       "      <td>12.900000</td>\n",
       "    </tr>\n",
       "    <tr>\n",
       "      <th>75%</th>\n",
       "      <td>218.825000</td>\n",
       "      <td>36.525000</td>\n",
       "      <td>45.100000</td>\n",
       "      <td>17.400000</td>\n",
       "    </tr>\n",
       "    <tr>\n",
       "      <th>max</th>\n",
       "      <td>296.400000</td>\n",
       "      <td>49.600000</td>\n",
       "      <td>114.000000</td>\n",
       "      <td>27.000000</td>\n",
       "    </tr>\n",
       "  </tbody>\n",
       "</table>\n",
       "</div>"
      ],
      "text/plain": [
       "               TV       radio   newspaper       sales\n",
       "count  200.000000  200.000000  200.000000  200.000000\n",
       "mean   147.042500   23.264000   30.554000   14.022500\n",
       "std     85.854236   14.846809   21.778621    5.217457\n",
       "min      0.700000    0.000000    0.300000    1.600000\n",
       "25%     74.375000    9.975000   12.750000   10.375000\n",
       "50%    149.750000   22.900000   25.750000   12.900000\n",
       "75%    218.825000   36.525000   45.100000   17.400000\n",
       "max    296.400000   49.600000  114.000000   27.000000"
      ]
     },
     "execution_count": 47,
     "metadata": {},
     "output_type": "execute_result"
    }
   ],
   "source": [
    "data.describe()"
   ]
  },
  {
   "cell_type": "code",
   "execution_count": 49,
   "metadata": {},
   "outputs": [
    {
     "data": {
      "text/plain": [
       "['TV', 'radio', 'newspaper']"
      ]
     },
     "execution_count": 49,
     "metadata": {},
     "output_type": "execute_result"
    }
   ],
   "source": [
    "# create a Python list of feature names:'TV', 'radio', 'newspaper'\n",
    "feature_names = []\n",
    "feature_names"
   ]
  },
  {
   "cell_type": "code",
   "execution_count": 50,
   "metadata": {},
   "outputs": [],
   "source": [
    "# Select input variables Xs.\n",
    "X = data[feature_names]"
   ]
  },
  {
   "cell_type": "code",
   "execution_count": 51,
   "metadata": {},
   "outputs": [],
   "source": [
    "# Select 'sales' as the y variable\n",
    "y = data[]"
   ]
  },
  {
   "cell_type": "code",
   "execution_count": 52,
   "metadata": {},
   "outputs": [
    {
     "data": {
      "image/png": "[encoded data removed]",
      "text/plain": [
       "<Figure size 432x288 with 2 Axes>"
      ]
     },
     "metadata": {},
     "output_type": "display_data"
    },
    {
     "data": {
      "text/plain": [
       "<matplotlib.axes._subplots.AxesSubplot at 0x265d2f591d0>"
      ]
     },
     "execution_count": 52,
     "metadata": {},
     "output_type": "execute_result"
    }
   ],
   "source": [
    "# visualize relationship between the variables\n",
    "from yellowbrick.features import Rank2D\n",
    "visualizer = Rank2D(algorithm='pearson')\n",
    "visualizer.fit(data)\n",
    "visualizer.transform(data)\n",
    "visualizer.show()"
   ]
  },
  {
   "cell_type": "code",
   "execution_count": 55,
   "metadata": {},
   "outputs": [],
   "source": [
    "# import train_test_split function\n",
    "from sklearn.model_selection import train_test_split\n",
    "# Split X and y into traning and testing sets using train_test_split(X, y, random_state=1)\n",
    "X_train, X_test, y_train, y_test =  train_test_split(X, y, random_state=1)\n",
    "# Note random_state=int, random_state is the seed used by the random number generator"
   ]
  },
  {
   "cell_type": "code",
   "execution_count": 56,
   "metadata": {},
   "outputs": [
    {
     "data": {
      "text/plain": [
       "array([0.04656457, 0.17915812, 0.00345046])"
      ]
     },
     "execution_count": 56,
     "metadata": {},
     "output_type": "execute_result"
    }
   ],
   "source": [
    "#import model\n",
    "from sklearn.linear_model import LinearRegression\n",
    "# Linear Regression Model\n",
    "linreg = LinearRegression()\n",
    "# fit the model to the training data (learn the coefficients)\n",
    "linreg.fit(X_train, y_train)\n",
    "\n",
    "# make predictions on the testing set\n",
    "y_pred = linreg.predict(X_test)\n",
    "\n",
    "# Check the coefficient\n",
    "linreg.coef_"
   ]
  },
  {
   "cell_type": "code",
   "execution_count": 57,
   "metadata": {},
   "outputs": [
    {
     "name": "stdout",
     "output_type": "stream",
     "text": [
      "R2 Score: 0.9156213613792231\n"
     ]
    }
   ],
   "source": [
    "# plot the regression line use seaborn \n",
    "# compute the R square value\n",
    "from sklearn.metrics import r2_score\n",
    "# check the Rsquare score using r2_score(y_test,y_pred)\n",
    "print('R2 Score:', r2_score(y_test,y_pred))"
   ]
  },
  {
   "cell_type": "code",
   "execution_count": 58,
   "metadata": {
    "scrolled": true
   },
   "outputs": [
    {
     "data": {
      "image/png": "[encoded data removed]",
      "text/plain": [
       "<Figure size 432x288 with 2 Axes>"
      ]
     },
     "metadata": {},
     "output_type": "display_data"
    },
    {
     "data": {
      "text/plain": [
       "<matplotlib.axes._subplots.AxesSubplot at 0x265d5063828>"
      ]
     },
     "execution_count": 58,
     "metadata": {},
     "output_type": "execute_result"
    }
   ],
   "source": [
    "from yellowbrick.regressor import ResidualsPlot\n",
    "# Visualzie the training and fitting model and the residual histogram\n",
    "visualizer = ResidualsPlot(linreg)\n",
    "visualizer.fit(X_train, y_train)  # Fit the training data to the model\n",
    "visualizer.score(X_test, y_test)  # Evaluate the model on the test data\n",
    "visualizer.poof()                 # Draw/show/poof the data"
   ]
  },
  {
   "cell_type": "markdown",
   "metadata": {},
   "source": [
    "Exercise 1:\n",
    "1. Import the packages using the python code below:\n",
    "```Python\n",
    "#import the packages\n",
    "import pandas as pd\n",
    "#import model\n",
    "from sklearn.linear_model import LinearRegression\n",
    "from sklearn.model_selection import train_test_split\n",
    "from sklearn import metrics\n",
    "from yellowbrick.features import Rank2D\n",
    "from yellowbrick.regressor import ResidualsPlot\n",
    "```\n",
    "2. Import the data named \"'bikeshare.csv\" as a dataframe.\n",
    "\n",
    "```python\n",
    "data =  pd.read_csv(\"bikeshare.csv\")\n",
    "```\n",
    "3. Create a Python list of feature names:\n",
    "    1. X is \"season\", \"month\", \"hour\", \"holiday\", \"weekday\", \"workingday\",\n",
    "    \"weather\", \"temp\", \"feelslike\", \"humidity\", \"windspeed\".\n",
    "4. Use the list to select a subset, X, of the original DataFrame \n",
    "\n",
    "5. Use the python commands below to show the pearson correlation matrix\n",
    "\n",
    "```python\n",
    "# visualize relationship between the variables\n",
    "from yellowbrick.features import Rank2D\n",
    "visualizer = Rank2D(algorithm='pearson')\n",
    "visualizer.fit(X, y)\n",
    "visualizer.transform(X)\n",
    "visualizer.show()\n",
    "```\n",
    "\n",
    "6. Use the list to select a subset, y, of the original DataFrame \n",
    "    * Y is \"riders\"\n",
    "    \n",
    "7. Split X and y into training and testing sets  \n",
    "8. Create a linear regression function and fit the model from the training data, and test using the testing data.\n",
    "9. Check the coefficient\n",
    "10. Visualize the residuals of training and testing model "
   ]
  },
  {
   "cell_type": "code",
   "execution_count": null,
   "metadata": {},
   "outputs": [],
   "source": [
    "#import the packages\n",
    "import pandas as pd\n",
    "#import model\n",
    "from sklearn.linear_model import LinearRegression\n",
    "from sklearn.model_selection import train_test_split\n",
    "from sklearn import metrics\n",
    "from yellowbrick.features import Rank2D\n",
    "from yellowbrick.regressor import ResidualsPlot\n",
    "# import data\n",
    "BikeData =  pd.read_csv(\"bikeshare.csv\")\n",
    "print(BikeData.head())\n",
    "featureNames = [\"season\", \"month\", \"hour\", \"holiday\", \"weekday\", \"workingday\", \"weather\", \"temp\", \"feelslike\", \"humidity\", \"windspeed\"]\n",
    "X = BikeData[featureNames]\n",
    "y = BikeData['riders']\n",
    "\n",
    "# visualize relationship between the variables\n",
    "from yellowbrick.features import Rank2D\n",
    "visualizer = Rank2D(algorithm='pearson')\n",
    "visualizer.fit(X, y)\n",
    "visualizer.transform(X)\n",
    "visualizer.show()\n",
    "\n"
   ]
  },
  {
   "cell_type": "markdown",
   "metadata": {},
   "source": [
    "## A Simple Classification Problem\n",
    "\n",
    "**Supervised learning:** you train the machine using data which is well \"labeled.\" It means some data is already tagged with the correct answer. It can be compared to learning which takes place in the presence of a supervisor or a teacher. \n",
    "\n",
    "**Unsupervised learning:** a machine learning technique, where you do not need to supervise the model. Instead, you need to allow the model to work on its own to discover information. It mainly deals with the unlabelled data.\n",
    "\n",
    "Supervised learning classified into two categories of algorithms:\n",
    "\n",
    "**Regression:** A regression problem is when the output variable is a real value, such as “dollars” or “weight”.\n",
    "\n",
    "**Classification:** A classification problem is when the output variable is a category, such as “red” or “blue” or “disease” and “no disease”.\n",
    "\n",
    "For instance, suppose you are given a basket filled with different kinds of fruits and ask you to train the model and then to predict the fruit type using test data. \n",
    "The fruits dataset was created by Dr. Iain Murray from University of Edinburgh. He bought a few dozen oranges, mandarin, lemons and apples of different varieties, and recorded their measurements in a table. And then the professors at University of Michigan formatted the fruits data slightly. Let us import the data and see the first several rows of the data. "
   ]
  },
  {
   "cell_type": "code",
   "execution_count": 59,
   "metadata": {},
   "outputs": [
    {
     "data": {
      "text/html": [
       "<div>\n",
       "<style scoped>\n",
       "    .dataframe tbody tr th:only-of-type {\n",
       "        vertical-align: middle;\n",
       "    }\n",
       "\n",
       "    .dataframe tbody tr th {\n",
       "        vertical-align: top;\n",
       "    }\n",
       "\n",
       "    .dataframe thead th {\n",
       "        text-align: right;\n",
       "    }\n",
       "</style>\n",
       "<table border=\"1\" class=\"dataframe\">\n",
       "  <thead>\n",
       "    <tr style=\"text-align: right;\">\n",
       "      <th></th>\n",
       "      <th>fruit_label</th>\n",
       "      <th>fruit_name</th>\n",
       "      <th>fruit_subtype</th>\n",
       "      <th>mass</th>\n",
       "      <th>width</th>\n",
       "      <th>height</th>\n",
       "      <th>color_score</th>\n",
       "    </tr>\n",
       "  </thead>\n",
       "  <tbody>\n",
       "    <tr>\n",
       "      <th>0</th>\n",
       "      <td>1</td>\n",
       "      <td>apple</td>\n",
       "      <td>granny_smith</td>\n",
       "      <td>192</td>\n",
       "      <td>8.4</td>\n",
       "      <td>7.3</td>\n",
       "      <td>0.55</td>\n",
       "    </tr>\n",
       "    <tr>\n",
       "      <th>1</th>\n",
       "      <td>1</td>\n",
       "      <td>apple</td>\n",
       "      <td>granny_smith</td>\n",
       "      <td>180</td>\n",
       "      <td>8.0</td>\n",
       "      <td>6.8</td>\n",
       "      <td>0.59</td>\n",
       "    </tr>\n",
       "    <tr>\n",
       "      <th>2</th>\n",
       "      <td>1</td>\n",
       "      <td>apple</td>\n",
       "      <td>granny_smith</td>\n",
       "      <td>176</td>\n",
       "      <td>7.4</td>\n",
       "      <td>7.2</td>\n",
       "      <td>0.60</td>\n",
       "    </tr>\n",
       "    <tr>\n",
       "      <th>3</th>\n",
       "      <td>2</td>\n",
       "      <td>mandarin</td>\n",
       "      <td>mandarin</td>\n",
       "      <td>86</td>\n",
       "      <td>6.2</td>\n",
       "      <td>4.7</td>\n",
       "      <td>0.80</td>\n",
       "    </tr>\n",
       "    <tr>\n",
       "      <th>4</th>\n",
       "      <td>2</td>\n",
       "      <td>mandarin</td>\n",
       "      <td>mandarin</td>\n",
       "      <td>84</td>\n",
       "      <td>6.0</td>\n",
       "      <td>4.6</td>\n",
       "      <td>0.79</td>\n",
       "    </tr>\n",
       "  </tbody>\n",
       "</table>\n",
       "</div>"
      ],
      "text/plain": [
       "   fruit_label fruit_name fruit_subtype  mass  width  height  color_score\n",
       "0            1      apple  granny_smith   192    8.4     7.3         0.55\n",
       "1            1      apple  granny_smith   180    8.0     6.8         0.59\n",
       "2            1      apple  granny_smith   176    7.4     7.2         0.60\n",
       "3            2   mandarin      mandarin    86    6.2     4.7         0.80\n",
       "4            2   mandarin      mandarin    84    6.0     4.6         0.79"
      ]
     },
     "execution_count": 59,
     "metadata": {},
     "output_type": "execute_result"
    }
   ],
   "source": [
    "import pandas as pd\n",
    "fruits = pd.read_table(\"fruit_data_with_colors.txt\")\n",
    "fruits.head()\n"
   ]
  },
  {
   "cell_type": "markdown",
   "metadata": {},
   "source": [
    "Each row of the dataset represents one piece of the fruit as represented by several features that are in the table’s columns.\n",
    "\n",
    "We have 59 pieces of fruits and 7 features in the dataset:"
   ]
  },
  {
   "cell_type": "code",
   "execution_count": 7,
   "metadata": {},
   "outputs": [
    {
     "name": "stdout",
     "output_type": "stream",
     "text": [
      "(59, 7)\n"
     ]
    }
   ],
   "source": [
    "print(fruits.shape)"
   ]
  },
  {
   "cell_type": "markdown",
   "metadata": {},
   "source": [
    "We have four types of fruits in the dataset: apple, mandarin, orange, and lemon."
   ]
  },
  {
   "cell_type": "code",
   "execution_count": 8,
   "metadata": {},
   "outputs": [
    {
     "data": {
      "image/png": "[encoded data removed]",
      "text/plain": [
       "<Figure size 360x360 with 1 Axes>"
      ]
     },
     "metadata": {},
     "output_type": "display_data"
    }
   ],
   "source": [
    "import seaborn as sns\n",
    "import matplotlib.pyplot as plt\n",
    "sns.set_style(\"whitegrid\")\n",
    "sns.catplot(x='fruit_name',  kind='count', color='b', data=fruits)\n",
    "plt.show()\n"
   ]
  },
  {
   "cell_type": "code",
   "execution_count": 9,
   "metadata": {},
   "outputs": [
    {
     "data": {
      "image/png": "[encoded data removed]",
      "text/plain": [
       "<Figure size 576x396 with 1 Axes>"
      ]
     },
     "metadata": {},
     "output_type": "display_data"
    }
   ],
   "source": [
    "# Scatter plot \n",
    "import seaborn as sns\n",
    "sns.scatterplot(x=\"width\", y=\"height\",hue=\"fruit_name\", style=\"fruit_name\", data=fruits)\n",
    "plt.show()"
   ]
  },
  {
   "cell_type": "code",
   "execution_count": 10,
   "metadata": {},
   "outputs": [
    {
     "data": {
      "text/html": [
       "<div>\n",
       "<style scoped>\n",
       "    .dataframe tbody tr th:only-of-type {\n",
       "        vertical-align: middle;\n",
       "    }\n",
       "\n",
       "    .dataframe tbody tr th {\n",
       "        vertical-align: top;\n",
       "    }\n",
       "\n",
       "    .dataframe thead th {\n",
       "        text-align: right;\n",
       "    }\n",
       "</style>\n",
       "<table border=\"1\" class=\"dataframe\">\n",
       "  <thead>\n",
       "    <tr style=\"text-align: right;\">\n",
       "      <th></th>\n",
       "      <th>fruit_label</th>\n",
       "      <th>mass</th>\n",
       "      <th>width</th>\n",
       "      <th>height</th>\n",
       "      <th>color_score</th>\n",
       "    </tr>\n",
       "  </thead>\n",
       "  <tbody>\n",
       "    <tr>\n",
       "      <th>count</th>\n",
       "      <td>59.000000</td>\n",
       "      <td>59.000000</td>\n",
       "      <td>59.000000</td>\n",
       "      <td>59.000000</td>\n",
       "      <td>59.000000</td>\n",
       "    </tr>\n",
       "    <tr>\n",
       "      <th>mean</th>\n",
       "      <td>2.542373</td>\n",
       "      <td>163.118644</td>\n",
       "      <td>7.105085</td>\n",
       "      <td>7.693220</td>\n",
       "      <td>0.762881</td>\n",
       "    </tr>\n",
       "    <tr>\n",
       "      <th>std</th>\n",
       "      <td>1.208048</td>\n",
       "      <td>55.018832</td>\n",
       "      <td>0.816938</td>\n",
       "      <td>1.361017</td>\n",
       "      <td>0.076857</td>\n",
       "    </tr>\n",
       "    <tr>\n",
       "      <th>min</th>\n",
       "      <td>1.000000</td>\n",
       "      <td>76.000000</td>\n",
       "      <td>5.800000</td>\n",
       "      <td>4.000000</td>\n",
       "      <td>0.550000</td>\n",
       "    </tr>\n",
       "    <tr>\n",
       "      <th>25%</th>\n",
       "      <td>1.000000</td>\n",
       "      <td>140.000000</td>\n",
       "      <td>6.600000</td>\n",
       "      <td>7.200000</td>\n",
       "      <td>0.720000</td>\n",
       "    </tr>\n",
       "    <tr>\n",
       "      <th>50%</th>\n",
       "      <td>3.000000</td>\n",
       "      <td>158.000000</td>\n",
       "      <td>7.200000</td>\n",
       "      <td>7.600000</td>\n",
       "      <td>0.750000</td>\n",
       "    </tr>\n",
       "    <tr>\n",
       "      <th>75%</th>\n",
       "      <td>4.000000</td>\n",
       "      <td>177.000000</td>\n",
       "      <td>7.500000</td>\n",
       "      <td>8.200000</td>\n",
       "      <td>0.810000</td>\n",
       "    </tr>\n",
       "    <tr>\n",
       "      <th>max</th>\n",
       "      <td>4.000000</td>\n",
       "      <td>362.000000</td>\n",
       "      <td>9.600000</td>\n",
       "      <td>10.500000</td>\n",
       "      <td>0.930000</td>\n",
       "    </tr>\n",
       "  </tbody>\n",
       "</table>\n",
       "</div>"
      ],
      "text/plain": [
       "       fruit_label        mass      width     height  color_score\n",
       "count    59.000000   59.000000  59.000000  59.000000    59.000000\n",
       "mean      2.542373  163.118644   7.105085   7.693220     0.762881\n",
       "std       1.208048   55.018832   0.816938   1.361017     0.076857\n",
       "min       1.000000   76.000000   5.800000   4.000000     0.550000\n",
       "25%       1.000000  140.000000   6.600000   7.200000     0.720000\n",
       "50%       3.000000  158.000000   7.200000   7.600000     0.750000\n",
       "75%       4.000000  177.000000   7.500000   8.200000     0.810000\n",
       "max       4.000000  362.000000   9.600000  10.500000     0.930000"
      ]
     },
     "execution_count": 10,
     "metadata": {},
     "output_type": "execute_result"
    }
   ],
   "source": [
    "# Descriptive Statistics \n",
    "fruits.describe()"
   ]
  },
  {
   "cell_type": "code",
   "execution_count": 14,
   "metadata": {},
   "outputs": [
    {
     "data": {
      "image/png": "[encoded data removed]",
      "text/plain": [
       "<Figure size 864x648 with 4 Axes>"
      ]
     },
     "metadata": {},
     "output_type": "display_data"
    }
   ],
   "source": [
    "#histogram for each numeric imput variable\n",
    "from scipy.stats import norm\n",
    "fruits.drop('fruit_label', axis=1).hist(bins=30, figsize=(12,9))\n",
    "plt.show()"
   ]
  },
  {
   "cell_type": "markdown",
   "metadata": {},
   "source": [
    "Some numerical values do not have the same scale, so we need to scale them. We will split the dataset into training and test sets first. Then we scale the training data and then apply scaling to the test set, because in practice you are not provided with test data and you just have to evaluate your model on test data.\n",
    "\n",
    "Here we use MinMaxScaler, which rescales the data set such that all feature values are in the range [0, 1]. \n",
    "\n",
    "The transformation formula is given by:\n",
    "\n",
    "$ z_i = \\frac{x_i - min(x_i)}{max(x_i) - min(x_i)}$\n",
    "\n",
    "\n"
   ]
  },
  {
   "cell_type": "code",
   "execution_count": 63,
   "metadata": {},
   "outputs": [],
   "source": [
    "#Create a feature list and y\n",
    "feature_names = ['mass','height' ,'width' , 'color_score' ]\n",
    "X = fruits[feature_names]\n",
    "y = fruits['fruit_label']\n",
    "#split the dataset into training and test\n",
    "from sklearn.model_selection import train_test_split\n",
    "X_train, X_test, y_train, y_test = train_test_split(X, y, test_size=0.3,random_state=0)\n",
    "#Use minmax scale\n",
    "from sklearn.preprocessing import MinMaxScaler\n",
    "scaler = MinMaxScaler()\n",
    "X_train = scaler.fit_transform(X_train)\n",
    "X_test = scaler.transform(X_test)"
   ]
  },
  {
   "cell_type": "code",
   "execution_count": 64,
   "metadata": {},
   "outputs": [
    {
     "data": {
      "text/plain": [
       "array([[0.26086957, 0.48387097, 0.52941176, 0.37837838],\n",
       "       [0.30434783, 0.43548387, 0.41176471, 0.67567568],\n",
       "       [0.1884058 , 0.70967742, 0.        , 0.48648649],\n",
       "       [0.28985507, 0.5       , 0.35294118, 0.7027027 ],\n",
       "       [0.26811594, 0.48387097, 0.44117647, 0.64864865],\n",
       "       [0.13043478, 0.61290323, 0.02941176, 0.48648649]])"
      ]
     },
     "execution_count": 64,
     "metadata": {},
     "output_type": "execute_result"
    }
   ],
   "source": [
    "X_train[0:6]"
   ]
  },
  {
   "cell_type": "markdown",
   "metadata": {},
   "source": [
    "## Fit a logistic regression model\n",
    "Logistic regression is a classification algorithm used to assign observations to a discrete set of classes. Unlike linear regression which outputs continuous number values, logistic regression transforms its output using the logistic sigmoid function to return a probability value which can then be mapped to two or more discrete classes.\n",
    "\n",
    "Reference: https://ml-cheatsheet.readthedocs.io/en/latest/logistic_regression.html\n",
    "\n",
    "**Confusion matrix:** a table to describe the performance of a classification model (or “classifier”) on a set of test data for which the true values are known. It allows the visualization of the performance of an algorithm.\n",
    "\n",
    "**Accuracy:** the ratio of number of correct predictions to the total number of input samples. "
   ]
  },
  {
   "cell_type": "code",
   "execution_count": 65,
   "metadata": {},
   "outputs": [
    {
     "name": "stderr",
     "output_type": "stream",
     "text": [
      "c:\\program files\\python37\\lib\\site-packages\\sklearn\\linear_model\\logistic.py:432: FutureWarning: Default solver will be changed to 'lbfgs' in 0.22. Specify a solver to silence this warning.\n",
      "  FutureWarning)\n",
      "c:\\program files\\python37\\lib\\site-packages\\sklearn\\linear_model\\logistic.py:469: FutureWarning: Default multi_class will be changed to 'auto' in 0.22. Specify the multi_class option to silence this warning.\n",
      "  \"this warning.\", FutureWarning)\n"
     ]
    },
    {
     "data": {
      "image/png": "[encoded data removed]",
      "text/plain": [
       "<Figure size 432x288 with 1 Axes>"
      ]
     },
     "metadata": {},
     "output_type": "display_data"
    },
    {
     "name": "stdout",
     "output_type": "stream",
     "text": [
      "Accuracy of Logistic regression classifier on training set: 0.68\n",
      "Accuracy of Logistic regression classifier on test set: 0.39\n"
     ]
    }
   ],
   "source": [
    "from sklearn.linear_model import LogisticRegression\n",
    "from yellowbrick.classifier import ConfusionMatrix\n",
    "model = \n",
    "#logreg = LogisticRegression(solver='lbfgs', multi_class='auto')\n",
    "# The ConfusionMatrix visualizer taxes a model\n",
    "cm = ConfusionMatrix(model)\n",
    "# Fit the passed model,cm.fit(X_train, y_train)\n",
    "\n",
    "\n",
    "# To create the ConfusionMatrix, we need some test data. Score runs predict() on the data\n",
    "# and then creates the confusion_matrix from scikit-learn,cm.score(X_test, y_test)\n",
    "\n",
    "\n",
    "# How did we do?\n",
    "# print out the confusion matrix\n",
    "cm.show()\n",
    "\n",
    "# :.f Here we specify 2 digits of precision and f is used to represent floating point number.\n",
    "print('Accuracy of Logistic regression classifier on training set: {:.2f}'\n",
    "     .format(model.score(X_train, y_train)))\n",
    "print('Accuracy of Logistic regression classifier on test set: {:.2f}'\n",
    "     .format(model.score(X_test, y_test))) \n",
    "\n"
   ]
  },
  {
   "cell_type": "markdown",
   "metadata": {},
   "source": [
    "## Decision Tree \n",
    "A decision tree is a decision support tool that uses a tree-like graph or model of decisions and their possible consequences, including chance event outcomes, resource costs, and utility. It is one way to display an algorithm that only contains conditional control statements.\n",
    "Reference:https://medium.com/greyatom/decision-trees-a-simple-way-to-visualize-a-decision-dc506a403aeb"
   ]
  },
  {
   "cell_type": "code",
   "execution_count": 66,
   "metadata": {},
   "outputs": [
    {
     "data": {
      "image/png": "[encoded data removed]",
      "text/plain": [
       "<Figure size 432x288 with 1 Axes>"
      ]
     },
     "metadata": {},
     "output_type": "display_data"
    },
    {
     "name": "stdout",
     "output_type": "stream",
     "text": [
      "Accuracy of Decision Tree classifier on training set: 1.00\n",
      "Accuracy of Decision Tree classifier on test set: 0.89\n"
     ]
    }
   ],
   "source": [
    "from sklearn.tree import DecisionTreeClassifier\n",
    "\n",
    "dct = \n",
    "\n",
    "cm = ConfusionMatrix(dct)\n",
    "\n",
    "# Fit the model using training data. \n",
    "cm.fit(X_train, y_train)\n",
    "# To create the ConfusionMatrix, we need some test data. Score runs predict() on the data\n",
    "# and then creates the confusion_matrix from scikit-learn.\n",
    "cm.score(X_test, y_test)\n",
    "\n",
    "# How did we do?\n",
    "cm.show()\n",
    "print('Accuracy of Decision Tree classifier on training set: {:.2f}'\n",
    "     .format(dct.score(X_train, y_train)))\n",
    "print('Accuracy of Decision Tree classifier on test set: {:.2f}'\n",
    "     .format(dct.score(X_test, y_test)))"
   ]
  },
  {
   "cell_type": "markdown",
   "metadata": {},
   "source": [
    "## K-Nearest Neighbors\n",
    "The KNN algorithm assumes that similar things exist in close proximity. In other words, similar things are near to each other.\n",
    "Reference:https://towardsdatascience.com/machine-learning-basics-with-the-k-nearest-neighbors-algorithm-6a6e71d01761"
   ]
  },
  {
   "cell_type": "code",
   "execution_count": 67,
   "metadata": {},
   "outputs": [
    {
     "data": {
      "image/png": "[encoded data removed]",
      "text/plain": [
       "<Figure size 432x288 with 1 Axes>"
      ]
     },
     "metadata": {},
     "output_type": "display_data"
    },
    {
     "name": "stdout",
     "output_type": "stream",
     "text": [
      "Accuracy of K-NN classifier on training set: 0.95\n",
      "Accuracy of K-NN classifier on test set: 1.00\n"
     ]
    }
   ],
   "source": [
    "from sklearn.neighbors import KNeighborsClassifier\n",
    "\n",
    "knn = \n",
    "\n",
    "cm = ConfusionMatrix(knn)\n",
    "\n",
    "# Fit the model using the training data. \n",
    "cm.fit(X_train, y_train)\n",
    "# To create the ConfusionMatrix, we need some test data. Score runs predict() on the data\n",
    "# and then creates the confusion_matrix from scikit-learn.\n",
    "cm.score(X_test, y_test)\n",
    "\n",
    "# How did we do?\n",
    "cm.show()\n",
    "print('Accuracy of K-NN classifier on training set: {:.2f}'\n",
    "     .format(knn.score(X_train, y_train)))\n",
    "print('Accuracy of K-NN classifier on test set: {:.2f}'\n",
    "     .format(knn.score(X_test, y_test)))\n"
   ]
  },
  {
   "cell_type": "markdown",
   "metadata": {},
   "source": [
    "## Linear Discriminant Analysis\n",
    "\n",
    "Linear Discriminant Analysis is a dimensionality reduction technique used as a preprocessing step in Machine Learning and pattern classification applications.\n",
    "The main goal of dimensionality reduction techniques is to reduce the dimensions by removing the redundant and dependent features by transforming the features from higher dimensional space to a space with lower dimensions.\n",
    "Reference:https://medium.com/@srishtisawla/linear-discriminant-analysis-d38decf48105"
   ]
  },
  {
   "cell_type": "code",
   "execution_count": 69,
   "metadata": {
    "scrolled": true
   },
   "outputs": [
    {
     "data": {
      "image/png": "[encoded data removed]",
      "text/plain": [
       "<Figure size 432x288 with 1 Axes>"
      ]
     },
     "metadata": {},
     "output_type": "display_data"
    },
    {
     "name": "stdout",
     "output_type": "stream",
     "text": [
      "Accuracy of LDA classifier on training set: 0.88\n",
      "Accuracy of LDA classifier on test set: 0.67\n"
     ]
    }
   ],
   "source": [
    "from sklearn.discriminant_analysis import LinearDiscriminantAnalysis\n",
    "\n",
    "lda = \n",
    "\n",
    "cm = ConfusionMatrix(lda)\n",
    "\n",
    "# Fit the model using training data. \n",
    "cm.fit(X_train, y_train)\n",
    "# To create the ConfusionMatrix, we need some test data. Score runs predict() on the data\n",
    "# and then creates the confusion_matrix from scikit-learn.\n",
    "cm.score(X_test, y_test)\n",
    "\n",
    "# How did we do?\n",
    "cm.show()\n",
    "print('Accuracy of LDA classifier on training set: {:.2f}'\n",
    "     .format(lda.score(X_train, y_train)))\n",
    "print('Accuracy of LDA classifier on test set: {:.2f}'\n",
    "     .format(lda.score(X_test, y_test)))"
   ]
  },
  {
   "cell_type": "markdown",
   "metadata": {
    "collapsed": true
   },
   "source": [
    "## Random Forest\n",
    "\n",
    "Keywords: bootstrap aggregation or bagging\n",
    "          ensemble model, voting\n",
    "\n",
    "**RF Algorithm:**\n",
    "Fits a bunch of trees on \"random samples\n",
    "from our sample\" (called bootstrap samples)\n",
    "& they all vote on best class. The votes \n",
    "aggregated to choose the winning class.\n",
    "The concept of combining predictions \n",
    "like this is called \"bagging\" or \n",
    "Bootstrap Aggregation.\n",
    "\n",
    "Details:\n",
    "\n",
    "1. Randomly select (with replacement) both\n",
    "   N observations and a subset of predictors\n",
    "   to create 100-500 subsets of data.\n",
    "\n",
    "2. Fit a \"bushy\" tree to each sample\n",
    "   e.g. no pruning so each WILL overfit!\n",
    "\n",
    "3. At each split, variables are randomly sampled\n",
    "\n",
    "4. Have each model make a prediction, then \n",
    "   count (when classifying) or average \n",
    "   (when regressing) their predictions\n",
    "   (weights may be used based on model accuracy)\n",
    "   \n",
    "  "
   ]
  },
  {
   "cell_type": "code",
   "execution_count": 70,
   "metadata": {},
   "outputs": [
    {
     "name": "stderr",
     "output_type": "stream",
     "text": [
      "c:\\program files\\python37\\lib\\site-packages\\sklearn\\ensemble\\forest.py:245: FutureWarning: The default value of n_estimators will change from 10 in version 0.20 to 100 in 0.22.\n",
      "  \"10 in version 0.20 to 100 in 0.22.\", FutureWarning)\n"
     ]
    },
    {
     "data": {
      "image/png": "[encoded data removed]",
      "text/plain": [
       "<Figure size 432x288 with 1 Axes>"
      ]
     },
     "metadata": {},
     "output_type": "display_data"
    },
    {
     "name": "stdout",
     "output_type": "stream",
     "text": [
      "Accuracy of RFC classifier on training set: 1.00\n",
      "Accuracy of RFC classifier on test set: 0.89\n"
     ]
    }
   ],
   "source": [
    "from sklearn.ensemble import RandomForestClassifier\n",
    "\n",
    "rfc = \n",
    "\n",
    "cm = ConfusionMatrix(rfc)\n",
    "\n",
    "# Fit the model using training data. \n",
    "cm.fit(X_train, y_train)\n",
    "# To create the ConfusionMatrix, we need some test data. Score runs predict() on the data\n",
    "# and then creates the confusion_matrix from scikit-learn.\n",
    "cm.score(X_test, y_test)\n",
    "\n",
    "# How did we do?\n",
    "cm.show()\n",
    "print('Accuracy of RFC classifier on training set: {:.2f}'\n",
    "     .format(rfc.score(X_train, y_train)))\n",
    "print('Accuracy of RFC classifier on test set: {:.2f}'\n",
    "     .format(rfc.score(X_test, y_test)))"
   ]
  },
  {
   "cell_type": "markdown",
   "metadata": {},
   "source": [
    "## Neural Networks (NN)\n",
    "\n",
    "**Neural Network Algorithm**\n",
    "\n",
    "* Simulates human brain by weighting\n",
    "  \"neurons\" stored in \"hidden layers\"\n",
    "  \n",
    "* Each training observation adjusts\n",
    "  the impact of each neuron, often\n",
    "  through \"back-propogation\"\n",
    "\n",
    "* Deep Learning uses many layers\n",
    "  and many neurons per layer\n",
    "  \n",
    "\n",
    "**Pros:**  1) Excellent results for extreme \n",
    "  complexity e.g. voice, \n",
    "  image recognition 2) Though the model consists of a set\n",
    "  of equations that is fairly small\n",
    "  compared to many other methods 3) Model is quick to apply to new data\n",
    "\n",
    "    \n",
    "**Cons:** 1) Computationally intensive\n",
    "  to train the model 2) Performance on numerical data\n",
    "  rarely much better than faster\n",
    "  methods e.g. rf, gbm 3) Models are impossible to interpret 4) Extremely sensitive to multicollinearity\n",
    "  (use PCA first or method = \"pcaNNet\")\n",
    "\n",
    "\n",
    "**Neural Network Tuning Parameters**\n",
    "\n",
    "* Depends on specific type but\n",
    "  in general:\n",
    "  \n",
    "* Number of hidden layers.\n",
    "\n",
    "* Number of neurons per layer\n",
    "\n",
    "* Type of feedback mechanism\n",
    "  e.g. back-propogation\n",
    "  \n",
    "  Reference:  https://www.heatonresearch.com/2017/06/01/hidden-layers.html"
   ]
  },
  {
   "cell_type": "code",
   "execution_count": 71,
   "metadata": {},
   "outputs": [
    {
     "name": "stderr",
     "output_type": "stream",
     "text": [
      "c:\\program files\\python37\\lib\\site-packages\\sklearn\\neural_network\\multilayer_perceptron.py:566: ConvergenceWarning: Stochastic Optimizer: Maximum iterations (500) reached and the optimization hasn't converged yet.\n",
      "  % self.max_iter, ConvergenceWarning)\n"
     ]
    },
    {
     "data": {
      "image/png": "[encoded data removed]",
      "text/plain": [
       "<Figure size 432x288 with 1 Axes>"
      ]
     },
     "metadata": {},
     "output_type": "display_data"
    },
    {
     "name": "stdout",
     "output_type": "stream",
     "text": [
      "Accuracy of MLP classifier on training set: 1.00\n",
      "Accuracy of MLP classifier on test set: 0.94\n"
     ]
    }
   ],
   "source": [
    "from sklearn.neural_network import MLPClassifier\n",
    "\n",
    "mlp = MLPClassifier(hidden_layer_sizes=(20,20,20), max_iter=500)  # max_iter: Maximum number of iterations, default is 200.\n",
    "# hidden_layer_sizes (20, 20, 20): is a three-layer hidden layer NN with 20 neurons in the ith hidden layer.\n",
    "\n",
    "cm = ConfusionMatrix(mlp)\n",
    "\n",
    "# Fit the model using the training data. \n",
    "cm.fit(X_train, y_train)\n",
    "\n",
    "# To create the ConfusionMatrix, we need some test data. Score runs predict() on the data\n",
    "# and then creates the confusion_matrix from scikit-learn.\n",
    "cm.score(X_test, y_test)\n",
    "\n",
    "# How did we do?\n",
    "cm.show()\n",
    "print('Accuracy of MLP classifier on training set: {:.2f}'\n",
    "     .format(mlp.score(X_train, y_train)))\n",
    "print('Accuracy of MLP classifier on test set: {:.2f}'\n",
    "     .format(mlp.score(X_test, y_test)))"
   ]
  },
  {
   "cell_type": "markdown",
   "metadata": {},
   "source": [
    "## Model Evaluation\n",
    "Common metrics for evaluating classifiers:\n",
    "\n",
    "![image.png](confusion.png)\n",
    "\n",
    "\n",
    "**Precision** is the number of correct positive results divided by the number of all predicted positive results .\n",
    "\n",
    "**Recall** is the number of correct positive results divided by the number of actual positive results that should have been returned.\n",
    "\n",
    "The **F1** score is a measure of a test’s accuracy. It considers both the precision and the recall of the test to compute the score. The F1 score can be interpreted as a weighted average of the precision and recall, where an F1 score reaches its best value at 1 and worst at 0.\n",
    "```python\n",
    "precision = true positives / (true positives + false positives)\n",
    "\n",
    "recall = true positives / (false negatives + true positives)\n",
    "\n",
    "F1 score = 2 * (true positives) / (2 * true positives + false positives + false negatives)\n",
    "```"
   ]
  },
  {
   "cell_type": "code",
   "execution_count": 72,
   "metadata": {},
   "outputs": [
    {
     "data": {
      "image/png": "[encoded data removed]",
      "text/plain": [
       "<Figure size 432x288 with 2 Axes>"
      ]
     },
     "metadata": {},
     "output_type": "display_data"
    }
   ],
   "source": [
    "from yellowbrick.classifier import ClassificationReport\n",
    "\n",
    "# Instantiate the classification model and visualizer\n",
    "visualizer = ClassificationReport(knn, support=True)\n",
    "\n",
    "visualizer.fit(X_train, y_train)  # Fit the visualizer and the model\n",
    "visualizer.score(X_test, y_test)  # Evaluate the model on the test data\n",
    "g = visualizer.poof()             # Draw/show/poof the data"
   ]
  },
  {
   "cell_type": "markdown",
   "metadata": {},
   "source": [
    "## Predicted vs Actual in Test Data\n",
    "\n",
    "```\n",
    "y_pred=knn.predict(X_test)\n",
    "test = list(zip(y_pred, y_test))\n",
    "print(test)\n",
    "```"
   ]
  },
  {
   "cell_type": "code",
   "execution_count": 73,
   "metadata": {},
   "outputs": [
    {
     "name": "stdout",
     "output_type": "stream",
     "text": [
      "[(3, 3), (3, 3), (4, 4), (3, 3), (1, 1), (1, 1), (3, 3), (4, 4), (3, 3), (1, 1), (2, 2), (1, 1), (3, 3), (3, 3), (3, 3), (3, 3), (4, 4), (2, 2)]\n"
     ]
    }
   ],
   "source": [
    "y_pred=knn.predict(X_test)\n",
    "test = list(zip(y_pred, y_test))\n",
    "print(test)"
   ]
  },
  {
   "cell_type": "markdown",
   "metadata": {},
   "source": [
    "## Exercise2: \n",
    "\n",
    "The dataset we will be working with in this tutorial is the Breast Cancer Wisconsin Diagnostic Database. The dataset includes various information about breast cancer tumors, as well as classification labels of malignant or benign. The dataset has 569 instances, or data, on 569 tumors and includes information on 30 attributes, or features, such as the radius of the tumor, texture, smoothness, and area.\n",
    "\n",
    "Using this dataset, we will build a machine learning model to use tumor information to predict whether or not a tumor is malignant or benign.\n",
    "\n",
    "The syntax below imported and loaded the dataset, splitted the data into training and test and also applied Gaussian Naive Bayes model to the data.\n",
    "You need to fit the Logistic Regression and Random Forest model and find the best one. \n",
    "\n",
    "```python\n",
    "from sklearn.datasets import load_breast_cancer\n",
    "# Load dataset\n",
    "data = load_breast_cancer()\n",
    "# Organize our data\n",
    "y_names = data['target_names']\n",
    "y = data['target']\n",
    "feature_names = data['feature_names']\n",
    "X = data['data']\n",
    "# Split our data\n",
    "from sklearn.model_selection import train_test_split\n",
    "X_train, X_test, y_train, y_test = train_test_split(X,y,test_size=0.33,random_state=42)\n",
    "#fit Gaussian Naive model\n",
    "gnb = GaussianNB()\n",
    "cm = ConfusionMatrix(gnb, classes=y_names, label_encoder={0:'malignant', 1: 'benign'}  )\n",
    "# Fit fits the passed model. This is unnecessary if you pass the visualizer a pre-fitted model\n",
    "cm.fit(X_train, y_train)\n",
    "# To create the ConfusionMatrix, we need some test data. Score runs predict() on the data\n",
    "# and then creates the confusion_matrix from scikit-learn.\n",
    "cm.score(X_test, y_test)\n",
    "# How did we do?\n",
    "cm.show()\n",
    "print('Accuracy of classifier on training set: {:.2f}'\n",
    "     .format(gnb.score(X_train, y_train)))\n",
    "print('Accuracy of classifier on test set: {:.2f}'\n",
    "     .format(gnb.score(X_test, y_test)))\n",
    "     \n",
    "\n",
    "```\n"
   ]
  },
  {
   "cell_type": "code",
   "execution_count": 78,
   "metadata": {},
   "outputs": [
    {
     "data": {
      "text/plain": [
       "array([[1.799e+01, 1.038e+01, 1.228e+02, 1.001e+03, 1.184e-01, 2.776e-01,\n",
       "        3.001e-01, 1.471e-01, 2.419e-01, 7.871e-02, 1.095e+00, 9.053e-01,\n",
       "        8.589e+00, 1.534e+02, 6.399e-03, 4.904e-02, 5.373e-02, 1.587e-02,\n",
       "        3.003e-02, 6.193e-03, 2.538e+01, 1.733e+01, 1.846e+02, 2.019e+03,\n",
       "        1.622e-01, 6.656e-01, 7.119e-01, 2.654e-01, 4.601e-01, 1.189e-01]])"
      ]
     },
     "execution_count": 78,
     "metadata": {},
     "output_type": "execute_result"
    }
   ],
   "source": [
    "from sklearn.datasets import load_breast_cancer\n",
    "\n",
    "# Load dataset\n",
    "data = load_breast_cancer()\n",
    "# check the data\n",
    "data['data'][0:1]\n"
   ]
  },
  {
   "cell_type": "code",
   "execution_count": 79,
   "metadata": {},
   "outputs": [
    {
     "data": {
      "text/plain": [
       "array([[1.546e+01, 1.189e+01, 1.025e+02, 7.369e+02, 1.257e-01, 1.555e-01,\n",
       "        2.032e-01, 1.097e-01, 1.966e-01, 7.069e-02, 4.209e-01, 6.583e-01,\n",
       "        2.805e+00, 4.464e+01, 5.393e-03, 2.321e-02, 4.303e-02, 1.320e-02,\n",
       "        1.792e-02, 4.168e-03, 1.879e+01, 1.704e+01, 1.250e+02, 1.102e+03,\n",
       "        1.531e-01, 3.583e-01, 5.830e-01, 1.827e-01, 3.216e-01, 1.010e-01],\n",
       "       [1.285e+01, 2.137e+01, 8.263e+01, 5.145e+02, 7.551e-02, 8.316e-02,\n",
       "        6.126e-02, 1.867e-02, 1.580e-01, 6.114e-02, 4.993e-01, 1.798e+00,\n",
       "        2.552e+00, 4.124e+01, 6.011e-03, 4.480e-02, 5.175e-02, 1.341e-02,\n",
       "        2.669e-02, 7.731e-03, 1.440e+01, 2.701e+01, 9.163e+01, 6.458e+02,\n",
       "        9.402e-02, 1.936e-01, 1.838e-01, 5.601e-02, 2.488e-01, 8.151e-02],\n",
       "       [1.921e+01, 1.857e+01, 1.255e+02, 1.152e+03, 1.053e-01, 1.267e-01,\n",
       "        1.323e-01, 8.994e-02, 1.917e-01, 5.961e-02, 7.275e-01, 1.193e+00,\n",
       "        4.837e+00, 1.025e+02, 6.458e-03, 2.306e-02, 2.945e-02, 1.538e-02,\n",
       "        1.852e-02, 2.608e-03, 2.614e+01, 2.814e+01, 1.701e+02, 2.145e+03,\n",
       "        1.624e-01, 3.511e-01, 3.879e-01, 2.091e-01, 3.537e-01, 8.294e-02],\n",
       "       [1.247e+01, 1.731e+01, 8.045e+01, 4.801e+02, 8.928e-02, 7.630e-02,\n",
       "        3.609e-02, 2.369e-02, 1.526e-01, 6.046e-02, 1.532e-01, 7.810e-01,\n",
       "        1.253e+00, 1.191e+01, 3.796e-03, 1.371e-02, 1.346e-02, 7.096e-03,\n",
       "        1.536e-02, 1.541e-03, 1.406e+01, 2.434e+01, 9.282e+01, 6.073e+02,\n",
       "        1.276e-01, 2.506e-01, 2.028e-01, 1.053e-01, 3.035e-01, 7.661e-02],\n",
       "       [1.246e+01, 1.989e+01, 8.043e+01, 4.713e+02, 8.451e-02, 1.014e-01,\n",
       "        6.830e-02, 3.099e-02, 1.781e-01, 6.249e-02, 3.642e-01, 1.040e+00,\n",
       "        2.579e+00, 2.832e+01, 6.530e-03, 3.369e-02, 4.712e-02, 1.403e-02,\n",
       "        2.740e-02, 4.651e-03, 1.346e+01, 2.307e+01, 8.813e+01, 5.513e+02,\n",
       "        1.050e-01, 2.158e-01, 1.904e-01, 7.625e-02, 2.685e-01, 7.764e-02],\n",
       "       [1.086e+01, 2.148e+01, 6.851e+01, 3.605e+02, 7.431e-02, 4.227e-02,\n",
       "        0.000e+00, 0.000e+00, 1.661e-01, 5.948e-02, 3.163e-01, 1.304e+00,\n",
       "        2.115e+00, 2.067e+01, 9.579e-03, 1.104e-02, 0.000e+00, 0.000e+00,\n",
       "        3.004e-02, 2.228e-03, 1.166e+01, 2.477e+01, 7.408e+01, 4.123e+02,\n",
       "        1.001e-01, 7.348e-02, 0.000e+00, 0.000e+00, 2.458e-01, 6.592e-02]])"
      ]
     },
     "execution_count": 79,
     "metadata": {},
     "output_type": "execute_result"
    }
   ],
   "source": [
    "# Organize our data\n",
    "y_names = data['target_names']\n",
    "y = data['target']\n",
    "feature_names = data['feature_names']\n",
    "X = data['data']\n",
    "# Split our data\n",
    "from sklearn.model_selection import train_test_split\n",
    "X_train, X_test, y_train, y_test = train_test_split(X,y,test_size=0.33,random_state=42)\n",
    "X_train[0:6]"
   ]
  },
  {
   "cell_type": "code",
   "execution_count": 80,
   "metadata": {},
   "outputs": [
    {
     "data": {
      "image/png": "[encoded data removed]",
      "text/plain": [
       "<Figure size 432x288 with 1 Axes>"
      ]
     },
     "metadata": {},
     "output_type": "display_data"
    },
    {
     "name": "stdout",
     "output_type": "stream",
     "text": [
      "Accuracy of GNB classifier on training set: 0.94\n",
      "Accuracy of GNB classifier on test set: 0.94\n"
     ]
    }
   ],
   "source": [
    "#fit Gaussian Naive model\n",
    "from sklearn.naive_bayes import GaussianNB\n",
    "from yellowbrick.classifier import ConfusionMatrix\n",
    "\n",
    "gnb = GaussianNB()\n",
    "cm = ConfusionMatrix(gnb, classes=y_names, label_encoder={0:'malignant', 1: 'benign'})\n",
    "\n",
    "# Fit the model using the training data. \n",
    "cm.fit(X_train, y_train)\n",
    "# To create the ConfusionMatrix, we need some test data. Score runs predict() on the testdata\n",
    "# and then creates the confusion_matrix from scikit-learn.\n",
    "cm.score(X_test, y_test)\n",
    "\n",
    "# How did we do?\n",
    "cm.show()\n",
    "print('Accuracy of GNB classifier on training set: {:.2f}'\n",
    "     .format(gnb.score(X_train, y_train)))\n",
    "print('Accuracy of GNB classifier on test set: {:.2f}'\n",
    "     .format(gnb.score(X_test, y_test)))\n",
    "\n",
    "\n"
   ]
  },
  {
   "cell_type": "code",
   "execution_count": 81,
   "metadata": {},
   "outputs": [
    {
     "ename": "SyntaxError",
     "evalue": "invalid syntax (<ipython-input-81-35332a976e42>, line 5)",
     "output_type": "error",
     "traceback": [
      "\u001b[1;36m  File \u001b[1;32m\"<ipython-input-81-35332a976e42>\"\u001b[1;36m, line \u001b[1;32m5\u001b[0m\n\u001b[1;33m    logreg =\u001b[0m\n\u001b[1;37m             ^\u001b[0m\n\u001b[1;31mSyntaxError\u001b[0m\u001b[1;31m:\u001b[0m invalid syntax\n"
     ]
    }
   ],
   "source": [
    "# fit a logistic regression\n",
    "from sklearn.linear_model import LogisticRegression\n",
    "from yellowbrick.classifier import ConfusionMatrix\n",
    "\n",
    "logreg = \n",
    "\n",
    "# Pass the model to the ConfusionMatrix visualizer cm = ConfusionMatrix(logreg)\n",
    "\n",
    "\n",
    "# train the model # cm.fit(X_train, y_train)\n",
    "\n",
    "\n",
    "# To create the ConfusionMatrix, we need some test data. Score runs predict() on the data\n",
    "# and then creates the confusion_matrix from scikit-learn, cm.score(X_test, y_test)\n",
    "\n",
    "# Evaluate the model\n",
    "# print out the confusion matrix\n",
    "cm.show()\n",
    "\n",
    "# :.f Here we specify 2 digits of precision and f is used to represent floating point number.\n",
    "print('Accuracy of Logistic regression classifier on training set: {:.2f}'\n",
    "     .format(logreg.score(X_train, y_train)))\n",
    "print('Accuracy of Logistic regression classifier on test set: {:.2f}'\n",
    "     .format(logreg.score(X_test, y_test))) \n",
    "\n"
   ]
  },
  {
   "cell_type": "markdown",
   "metadata": {
    "collapsed": true
   },
   "source": [
    "## Unsupervised Learning\n",
    "\n",
    "When dealing with real-world problems, most of the time, data will not come with predefined labels, so we will want to develop machine learning models that can correctly classified the data by finding some commomality in the features to predict the classes on new data.\n",
    "\n",
    "Two main types of problems in unsupervised learning:\n",
    "\n",
    "* Clustering\n",
    "* Dimension Reduction\n",
    "\n",
    "This workshop we will cover the clustering problems. \n",
    "\n",
    "## Clustering Analysis\n",
    "\n",
    "Cluster analysis or clustering is to group a set of objects that objects in the same group (called a cluster) are more similar (in some sense) to each other than to those in other groups (clusters).\n",
    "![image.png](Unsupervise3.png)\n",
    "\n",
    "Clustering, however, has many different names (with respect to the fields it is being applied):\n",
    "\n",
    "* Cluster analysis\n",
    "* Automatic classification\n",
    "* Data segmentation\n",
    "\n",
    "**All the above names essentially mean clustering.**\n",
    "\n",
    "Cluster analysis have an incredible wide range of applications and are quite useful to solve real world problems such as anomaly detection, recommending systems, documents grouping, or finding customers with common interests based on their purchases.\n",
    "Some of the most common clustering algorithms will be explored in the workshop, are:\n",
    "* K-Means\n",
    "* Hierarchical Clustering\n",
    "\n",
    "\n",
    "## Choosing a Problem\n",
    "\n",
    "We will take an example of market segmentation. The data set contains 30 samples and two features, satisfaction and loyalty. We will try to analyse the type of customers in the market based on the features."
   ]
  },
  {
   "cell_type": "code",
   "execution_count": 83,
   "metadata": {},
   "outputs": [
    {
     "data": {
      "text/html": [
       "<div>\n",
       "<style scoped>\n",
       "    .dataframe tbody tr th:only-of-type {\n",
       "        vertical-align: middle;\n",
       "    }\n",
       "\n",
       "    .dataframe tbody tr th {\n",
       "        vertical-align: top;\n",
       "    }\n",
       "\n",
       "    .dataframe thead th {\n",
       "        text-align: right;\n",
       "    }\n",
       "</style>\n",
       "<table border=\"1\" class=\"dataframe\">\n",
       "  <thead>\n",
       "    <tr style=\"text-align: right;\">\n",
       "      <th></th>\n",
       "      <th>Satisfaction</th>\n",
       "      <th>Loyalty</th>\n",
       "    </tr>\n",
       "  </thead>\n",
       "  <tbody>\n",
       "    <tr>\n",
       "      <th>0</th>\n",
       "      <td>4</td>\n",
       "      <td>-1.33</td>\n",
       "    </tr>\n",
       "    <tr>\n",
       "      <th>1</th>\n",
       "      <td>6</td>\n",
       "      <td>-0.28</td>\n",
       "    </tr>\n",
       "    <tr>\n",
       "      <th>2</th>\n",
       "      <td>5</td>\n",
       "      <td>-0.99</td>\n",
       "    </tr>\n",
       "    <tr>\n",
       "      <th>3</th>\n",
       "      <td>7</td>\n",
       "      <td>-0.29</td>\n",
       "    </tr>\n",
       "    <tr>\n",
       "      <th>4</th>\n",
       "      <td>4</td>\n",
       "      <td>1.06</td>\n",
       "    </tr>\n",
       "  </tbody>\n",
       "</table>\n",
       "</div>"
      ],
      "text/plain": [
       "   Satisfaction  Loyalty\n",
       "0             4    -1.33\n",
       "1             6    -0.28\n",
       "2             5    -0.99\n",
       "3             7    -0.29\n",
       "4             4     1.06"
      ]
     },
     "execution_count": 83,
     "metadata": {},
     "output_type": "execute_result"
    }
   ],
   "source": [
    "# import packages\n",
    "import pandas as pd\n",
    "# import data\n",
    "data=pd.read_csv(\"kmeans clustering.csv\")\n",
    "data.head()\n"
   ]
  },
  {
   "cell_type": "code",
   "execution_count": 84,
   "metadata": {},
   "outputs": [
    {
     "data": {
      "image/png": "[encoded data removed]",
      "text/plain": [
       "<Figure size 432x288 with 1 Axes>"
      ]
     },
     "metadata": {},
     "output_type": "display_data"
    }
   ],
   "source": [
    "# scatter plot\n",
    "import matplotlib.pyplot as plt\n",
    "import seaborn as sns\n",
    "sns.scatterplot(x=\"Satisfaction\", y=\"Loyalty\",  data=data)\n",
    "plt.show()\n"
   ]
  },
  {
   "cell_type": "markdown",
   "metadata": {
    "collapsed": true
   },
   "source": [
    "## K-means Cluster\n",
    "\n",
    "k-means clustering aims to partition n observations into k clusters in which each observation belongs to the cluster with the nearest mean, serving as a prototype of the cluster (Definition from Wiki).\n",
    "\n",
    "### How the K-means algorithm works\n",
    "To process the learning data, the K-means algorithm in data mining starts with a first group of randomly selected centroids, which are used as the beginning points for every cluster, and then performs iterative (repetitive) calculations to optimize the positions of the centroids\n",
    "It halts creating and optimizing clusters when either:\n",
    "The centroids have stabilized — there is no change in their values because the clustering has been successful.\n",
    "The defined number of iterations has been achieved.\n",
    "\n",
    "reference: https://towardsdatascience.com/understanding-k-means-clustering-in-machine-learning-6a6e67336aa1"
   ]
  },
  {
   "cell_type": "code",
   "execution_count": 85,
   "metadata": {},
   "outputs": [],
   "source": [
    "from sklearn.cluster import KMeans\n",
    "\n",
    "# copy the data and ignore the feature names and store the data into a variable X.\n",
    "x = data.copy()\n",
    "\n",
    "# split the customers into two clusters\n",
    "# create a variable kmeans using kmeans function and passing the argument 2 in the Kmeans: kmeans = KMeans(2) # \n",
    "\n",
    "kmeans = KMeans(2)\n",
    "\n",
    "# fit the kmeans model, kmeans.fit(x)\n",
    "kmeans.fit(x)\n",
    "\n",
    "# Clustering result\n",
    "clusters = x.copy()\n",
    "# create a predicted label clusters['cluster_pred'] = kmeans.fit_predict(x)\n",
    "\n",
    "clusters['cluster_pred'] = kmeans.fit_predict(x)"
   ]
  },
  {
   "cell_type": "markdown",
   "metadata": {},
   "source": [
    "Plot the clusters"
   ]
  },
  {
   "cell_type": "code",
   "execution_count": 86,
   "metadata": {
    "scrolled": true
   },
   "outputs": [
    {
     "data": {
      "image/png": "[encoded data removed]",
      "text/plain": [
       "<Figure size 432x288 with 1 Axes>"
      ]
     },
     "metadata": {},
     "output_type": "display_data"
    }
   ],
   "source": [
    "plt.scatter(clusters['Satisfaction'], clusters['Loyalty'],c=clusters['cluster_pred'], cmap = 'rainbow')\n",
    "plt.xlabel('Satisfaction')\n",
    "plt.ylabel('Loyalty')\n",
    "plt.show()\n",
    "# colormap reference: https://matplotlib.org/3.1.1/gallery/color/colormap_reference.html"
   ]
  },
  {
   "cell_type": "markdown",
   "metadata": {},
   "source": [
    "## The Problem\n",
    "The biggest problem here is that Satisfaction is chosen as a feature and loyalty has been ignored. \n",
    "Satisfaction was chosen as the feature because it had large values.\n",
    "So the problem is because both variables are not scaled. First we have to standardize the data to make both two variables have equal weights in our clustering. We will scale the data around zero mean and one standard deviation. \n"
   ]
  },
  {
   "cell_type": "code",
   "execution_count": 89,
   "metadata": {},
   "outputs": [
    {
     "data": {
      "text/plain": [
       "array([[-0.93138063, -1.3318111 ],\n",
       "       [-0.15523011, -0.28117124],\n",
       "       [-0.54330537, -0.99160391],\n",
       "       [ 0.23284516, -0.29117733],\n",
       "       [-0.93138063,  1.05964534],\n",
       "       [-2.09560642, -1.6620122 ],\n",
       "       [ 1.39707095, -0.97159172],\n",
       "       [ 0.62092042, -0.32119561],\n",
       "       [ 0.62092042,  1.01962097],\n",
       "       [ 0.62092042,  0.67941378],\n",
       "       [ 1.39707095, -0.3412078 ],\n",
       "       [-0.54330537,  0.38923705],\n",
       "       [-0.54330537, -1.69203048],\n",
       "       [-1.70753116,  0.66940768],\n",
       "       [ 0.23284516,  0.26916393],\n",
       "       [ 1.00899568,  1.35982816],\n",
       "       [ 0.62092042,  1.37984035],\n",
       "       [ 0.23284516,  1.35982816],\n",
       "       [ 0.23284516, -0.3412078 ],\n",
       "       [ 1.00899568,  0.66940768],\n",
       "       [ 1.39707095,  1.17971847],\n",
       "       [-1.31945589, -1.69203048],\n",
       "       [-0.93138063,  1.03963316],\n",
       "       [-1.31945589, -0.96158562],\n",
       "       [-0.15523011,  1.02962706],\n",
       "       [ 1.00899568, -0.99160391],\n",
       "       [ 1.39707095,  0.36922486],\n",
       "       [ 1.00899568,  0.02901767],\n",
       "       [-1.31945589, -1.36182938],\n",
       "       [-0.54330537,  0.72944425]])"
      ]
     },
     "execution_count": 89,
     "metadata": {},
     "output_type": "execute_result"
    }
   ],
   "source": [
    "from sklearn.preprocessing import scale\n",
    "x_scaled = scale(x)\n",
    "x_scaled"
   ]
  },
  {
   "cell_type": "markdown",
   "metadata": {},
   "source": [
    "## The Elbow Method:\n",
    "Here the elbow method can help us figure out how many clusters we need. What elbow method does is it starts of with making one cluster to the number of clusters in our sample and with the kmeans inertia value. Based on the values, we determine what the appropriate number of clusters is.\n",
    "Inertia value: measures the distance between each data point and its centroid, squares this distance, and sum these squares across one cluster. It is the within cluster sum of square."
   ]
  },
  {
   "cell_type": "code",
   "execution_count": 21,
   "metadata": {
    "scrolled": true
   },
   "outputs": [
    {
     "data": {
      "image/png": "[encoded data removed]",
      "text/plain": [
       "<Figure size 432x288 with 1 Axes>"
      ]
     },
     "metadata": {},
     "output_type": "display_data"
    }
   ],
   "source": [
    "wcss = list()\n",
    "for i in range (1, 30):\n",
    "    kmeans = KMeans(i)\n",
    "    kmeans.fit(x_scaled)\n",
    "    # add the kmeans.inertia value to wcss #wcss.append(kmeans.inertia_)\n",
    "    wcss.append(kmeans.inertia_)\n",
    "# visualized the Elbow method\n",
    "plt.plot(range(1,30), wcss)\n",
    "plt.xlabel('Number of Clusters')\n",
    "plt.ylabel('WCSS')\n",
    "plt.show()\n"
   ]
  },
  {
   "cell_type": "markdown",
   "metadata": {},
   "source": [
    "Here the elbow point comes at around 4, so the optimal number of cluster is 4. \n"
   ]
  },
  {
   "cell_type": "code",
   "execution_count": 90,
   "metadata": {},
   "outputs": [],
   "source": [
    "kmeans_new = KMeans(4)\n",
    "kmeans.fit(x_scaled)\n",
    "cluster_new = x.copy()\n",
    "cluster_new['cluster_pred']=kmeans_new.fit_predict(x_scaled)\n",
    "#cluster_new"
   ]
  },
  {
   "cell_type": "markdown",
   "metadata": {},
   "source": [
    "Plot the newly cluster:"
   ]
  },
  {
   "cell_type": "code",
   "execution_count": 91,
   "metadata": {},
   "outputs": [
    {
     "data": {
      "image/png": "[encoded data removed]",
      "text/plain": [
       "<Figure size 432x288 with 1 Axes>"
      ]
     },
     "metadata": {},
     "output_type": "display_data"
    }
   ],
   "source": [
    "plt.scatter(clusters['Satisfaction'], clusters['Loyalty'],c=cluster_new['cluster_pred'], cmap = 'rainbow')\n",
    "plt.xlabel('Satisfaction')\n",
    "plt.ylabel('Loyalty')\n",
    "plt.show()"
   ]
  },
  {
   "cell_type": "markdown",
   "metadata": {},
   "source": [
    "## Hierarchical clustering\n",
    "\n",
    "### How Hierarchical Clustering Works\n",
    "Hierarchical clustering starts by treating each observation as a separate cluster. Then, it repeatedly executes the following two steps: (1) identify the two clusters that are closest together, and (2) merge the two most similar clusters. This continues until all the clusters are merged together. This is illustrated in the diagrams below.\n",
    "\n",
    "### Dendrogram\n",
    "A dendrogram is a diagram that shows the hierarchical relationship between objects. It is most commonly created as an output from hierarchical clustering. The main use of a dendrogram is to work out the best way to allocate objects to clusters.\n",
    "\n",
    "The key to interpreting a dendrogram is to focus on the height at which any two objects are joined together. In the example below, we can see that 4 and 22 are most similar, as the height of the link that joins them together is the smallest.\n",
    "\n",
    "Observations are allocated to clusters by drawing a horizontal line through the dendrogram. Observations that are joined together below the line are in clusters.\n",
    "\n",
    "Reference: https://www.displayr.com/what-is-dendrogram/"
   ]
  },
  {
   "cell_type": "code",
   "execution_count": 24,
   "metadata": {},
   "outputs": [
    {
     "data": {
      "image/png": "[encoded data removed]",
      "text/plain": [
       "<Figure size 432x288 with 1 Axes>"
      ]
     },
     "metadata": {},
     "output_type": "display_data"
    }
   ],
   "source": [
    "# plot dendrogram \n",
    "from scipy.cluster import hierarchy\n",
    "Z = hierarchy.linkage(x_scaled,'ward')\n",
    "dn = hierarchy.dendrogram(Z)\n",
    "plt.show()\n"
   ]
  },
  {
   "cell_type": "code",
   "execution_count": 25,
   "metadata": {},
   "outputs": [],
   "source": [
    "# import hierarchical clustering\n",
    "from sklearn.cluster import AgglomerativeClustering\n",
    "\n",
    "# Create clusters\n",
    "hc = AgglomerativeClustering(n_clusters=4, affinity = 'euclidean', linkage = 'ward')\n",
    "\n",
    "# save clusters for chart\n",
    "cluster_new['cluster_hc'] = hc.fit_predict(x_scaled)\n",
    "#cluster_new"
   ]
  },
  {
   "cell_type": "code",
   "execution_count": 26,
   "metadata": {},
   "outputs": [
    {
     "data": {
      "image/png": "[encoded data removed]",
      "text/plain": [
       "<Figure size 432x288 with 1 Axes>"
      ]
     },
     "metadata": {},
     "output_type": "display_data"
    }
   ],
   "source": [
    "# plot the cluster\n",
    "plt.close()\n",
    "plt.scatter(cluster_new['Satisfaction'], cluster_new['Loyalty'],c=cluster_new['cluster_hc'], cmap = 'rainbow')\n",
    "plt.xlabel('Satisfaction')\n",
    "plt.ylabel('Loyalty')\n",
    "plt.show()"
   ]
  },
  {
   "cell_type": "code",
   "execution_count": 27,
   "metadata": {},
   "outputs": [
    {
     "data": {
      "image/png": "[encoded data removed]",
      "text/plain": [
       "<Figure size 432x288 with 1 Axes>"
      ]
     },
     "metadata": {},
     "output_type": "display_data"
    }
   ],
   "source": [
    "# plot the Kmean cluster again.\n",
    "plt.scatter(clusters['Satisfaction'], clusters['Loyalty'],c=cluster_new['cluster_pred'], cmap = 'rainbow')\n",
    "plt.xlabel('Satisfaction')\n",
    "plt.ylabel('Loyalthy')\n",
    "plt.show()"
   ]
  },
  {
   "cell_type": "markdown",
   "metadata": {},
   "source": [
    "## Analysis (The final step):\n",
    "Through the given figure following things can be interpreted:\n",
    "\n",
    "The yellow are the people who are less satisfied and less loyal and therefore can be termed as alienated.\n",
    "The purple dots are people with high loyalty and less satisfaction.\n",
    "The blue dots are the people with high loyalty and high satisfaction and they are the fans.\n",
    "The red dots are the people who are in the midst of things.\n",
    "The ultimate goal of any businessman would be to have as many people up there in the fans category. We are ready with a solution and we can target the audience as per our analysis. For example, the crowd who are supporters can easily be turned into fans by fulfilling their satisfaction level.\n",
    "\n",
    "reference:\n",
    "1. https://medium.com/code-to-express/k-means-clustering-for-beginners-using-python-from-scratch-f20e79c8ad00\n",
    "2. https://scikit-learn.org/stable/auto_examples/cluster/plot_cluster_comparison.html#sphx-glr-auto-examples-cluster-plot-cluster-comparison-py\n",
    "3. https://hdbscan.readthedocs.io/en/latest/comparing_clustering_algorithms.html#spectral-clustering\n",
    "\n",
    "## Another example\n",
    "The python commands below generates 1000 random dataset of X and Y and the scatter plot of X can make two moons shape. We are going to use different linkage methods for hierarchical clustering on datasets that are “interesting”. "
   ]
  },
  {
   "cell_type": "code",
   "execution_count": 28,
   "metadata": {},
   "outputs": [
    {
     "data": {
      "image/png": "[encoded data removed]",
      "text/plain": [
       "<Figure size 432x288 with 1 Axes>"
      ]
     },
     "metadata": {},
     "output_type": "display_data"
    }
   ],
   "source": [
    "from sklearn.datasets import make_moons\n",
    "from matplotlib import pyplot\n",
    "from pandas import DataFrame\n",
    "import numpy as np\n",
    "np.random.seed(0)\n",
    "# generate 2d classification dataset\n",
    "X,y= make_moons(n_samples=1000, noise=0.05)\n",
    "# scatter plot, dots colored by class value\n",
    "df = DataFrame(dict(x=X[:,0], y=X[:,1], label=y))\n",
    "colors = {0:'red', 1:'blue'}\n",
    "\n",
    "# Scatter plot of the moon data.\n",
    "plt.scatter(df['x'], df['y'], c=y, cmap = 'rainbow')\n",
    "plt.xlabel('x')\n",
    "plt.ylabel('y')\n",
    "plt.show()\n"
   ]
  },
  {
   "cell_type": "code",
   "execution_count": 29,
   "metadata": {},
   "outputs": [
    {
     "data": {
      "text/html": [
       "<div>\n",
       "<style scoped>\n",
       "    .dataframe tbody tr th:only-of-type {\n",
       "        vertical-align: middle;\n",
       "    }\n",
       "\n",
       "    .dataframe tbody tr th {\n",
       "        vertical-align: top;\n",
       "    }\n",
       "\n",
       "    .dataframe thead th {\n",
       "        text-align: right;\n",
       "    }\n",
       "</style>\n",
       "<table border=\"1\" class=\"dataframe\">\n",
       "  <thead>\n",
       "    <tr style=\"text-align: right;\">\n",
       "      <th></th>\n",
       "      <th>x</th>\n",
       "      <th>y</th>\n",
       "      <th>label</th>\n",
       "      <th>cluster_ward</th>\n",
       "    </tr>\n",
       "  </thead>\n",
       "  <tbody>\n",
       "    <tr>\n",
       "      <th>0</th>\n",
       "      <td>2.021001</td>\n",
       "      <td>0.490179</td>\n",
       "      <td>1</td>\n",
       "      <td>1</td>\n",
       "    </tr>\n",
       "    <tr>\n",
       "      <th>1</th>\n",
       "      <td>1.678201</td>\n",
       "      <td>-0.201987</td>\n",
       "      <td>1</td>\n",
       "      <td>1</td>\n",
       "    </tr>\n",
       "    <tr>\n",
       "      <th>2</th>\n",
       "      <td>-0.282245</td>\n",
       "      <td>0.858785</td>\n",
       "      <td>0</td>\n",
       "      <td>0</td>\n",
       "    </tr>\n",
       "    <tr>\n",
       "      <th>3</th>\n",
       "      <td>-0.021440</td>\n",
       "      <td>0.176281</td>\n",
       "      <td>1</td>\n",
       "      <td>0</td>\n",
       "    </tr>\n",
       "    <tr>\n",
       "      <th>4</th>\n",
       "      <td>0.504842</td>\n",
       "      <td>-0.391043</td>\n",
       "      <td>1</td>\n",
       "      <td>1</td>\n",
       "    </tr>\n",
       "    <tr>\n",
       "      <th>5</th>\n",
       "      <td>1.969539</td>\n",
       "      <td>0.360055</td>\n",
       "      <td>1</td>\n",
       "      <td>1</td>\n",
       "    </tr>\n",
       "    <tr>\n",
       "      <th>6</th>\n",
       "      <td>0.956596</td>\n",
       "      <td>0.253665</td>\n",
       "      <td>0</td>\n",
       "      <td>0</td>\n",
       "    </tr>\n",
       "    <tr>\n",
       "      <th>7</th>\n",
       "      <td>0.094879</td>\n",
       "      <td>0.983378</td>\n",
       "      <td>0</td>\n",
       "      <td>0</td>\n",
       "    </tr>\n",
       "    <tr>\n",
       "      <th>8</th>\n",
       "      <td>-0.441660</td>\n",
       "      <td>0.872034</td>\n",
       "      <td>0</td>\n",
       "      <td>0</td>\n",
       "    </tr>\n",
       "    <tr>\n",
       "      <th>9</th>\n",
       "      <td>0.707516</td>\n",
       "      <td>-0.512674</td>\n",
       "      <td>1</td>\n",
       "      <td>1</td>\n",
       "    </tr>\n",
       "  </tbody>\n",
       "</table>\n",
       "</div>"
      ],
      "text/plain": [
       "          x         y  label  cluster_ward\n",
       "0  2.021001  0.490179      1             1\n",
       "1  1.678201 -0.201987      1             1\n",
       "2 -0.282245  0.858785      0             0\n",
       "3 -0.021440  0.176281      1             0\n",
       "4  0.504842 -0.391043      1             1\n",
       "5  1.969539  0.360055      1             1\n",
       "6  0.956596  0.253665      0             0\n",
       "7  0.094879  0.983378      0             0\n",
       "8 -0.441660  0.872034      0             0\n",
       "9  0.707516 -0.512674      1             1"
      ]
     },
     "execution_count": 29,
     "metadata": {},
     "output_type": "execute_result"
    }
   ],
   "source": [
    "#heirotical ward method\n",
    "x = df[['x','y']]\n",
    "\n",
    "# Create clusters\n",
    "hc = AgglomerativeClustering(n_clusters=2, affinity = 'euclidean', linkage = 'ward')\n",
    "\n",
    "# save clusters for chart\n",
    "cluster_moon = df.copy()\n",
    "\n",
    "# create a variable named cluster_ward  in cluster_moon data.\n",
    "cluster_moon['cluster_ward'] = hc.fit_predict(x)\n",
    "\n",
    "# print out the data.\n",
    "cluster_moon.head(n=10)"
   ]
  },
  {
   "cell_type": "code",
   "execution_count": 30,
   "metadata": {},
   "outputs": [
    {
     "data": {
      "image/png": "[encoded data removed]",
      "text/plain": [
       "<Figure size 432x288 with 1 Axes>"
      ]
     },
     "metadata": {},
     "output_type": "display_data"
    }
   ],
   "source": [
    "# plot the output\n",
    "plt.scatter(cluster_moon['x'], cluster_moon['y'],c=cluster_moon['cluster_ward'], cmap = 'rainbow')\n",
    "plt.xlabel('x')\n",
    "plt.ylabel('y')\n",
    "plt.show()"
   ]
  },
  {
   "cell_type": "markdown",
   "metadata": {},
   "source": [
    "## Exercise 3\n",
    "Used the data above and try the single and complete linkage clustering method and plot the data.\n",
    "\n",
    "```python\n",
    "#heirotical single method\n",
    "# Create clusters\n",
    "hc = AgglomerativeClustering(n_clusters=2, affinity = 'euclidean', linkage = 'single')\n",
    "#heirotical complete method\n",
    "\n",
    "# Create clusters\n",
    "hc = AgglomerativeClustering(n_clusters=2, affinity = 'euclidean', linkage = 'complete')\n",
    "```"
   ]
  },
  {
   "cell_type": "code",
   "execution_count": null,
   "metadata": {},
   "outputs": [],
   "source": []
  },
  {
   "cell_type": "code",
   "execution_count": null,
   "metadata": {},
   "outputs": [],
   "source": [
    "hc = AgglomerativeClustering(n_clusters=2, affinity = 'euclidean', linkage = '')\n",
    "\n",
    "# save clusters for chart\n",
    "cluster_moon = df.copy()\n",
    "\n",
    "# create a variable named cluster_ward  in cluster_moon data.\n",
    "cluster_moon['cluster_ward'] = hc.fit_predict(x)\n",
    "\n",
    "# print out the data.\n",
    "cluster_moon.head(n=10)\n",
    "# plot the output\n",
    "plt.scatter(cluster_moon['x'], cluster_moon['y'],c=cluster_moon['cluster_ward'], cmap = 'rainbow')\n",
    "plt.xlabel('x')\n",
    "plt.ylabel('y')\n",
    "plt.show()"
   ]
  },
  {
   "cell_type": "markdown",
   "metadata": {},
   "source": [
    "## Answer\n",
    "\n",
    "Exercise 1\n",
    "1. Import the packages using the python code below:\n",
    "```Python\n",
    "#import the packages\n",
    "import pandas as pd\n",
    "#import model\n",
    "from sklearn.linear_model import LinearRegression\n",
    "from sklearn.model_selection import train_test_split\n",
    "from sklearn import metrics\n",
    "from yellowbrick.features import Rank2D\n",
    "from yellowbrick.regressor import ResidualsPlot\n",
    "```\n",
    "2. Import the data named \"'bikeshare.csv\" as a dataframe.\n",
    "```python\n",
    "data =  pd.read_csv(\"bikeshare.csv\")\n",
    "```\n",
    "3. Create a Python list of feature names:\n",
    "    X is \"season\", \"month\", \"hour\", \"holiday\", \"weekday\", \"workingday\",\n",
    "    \"weather\", \"temp\", \"feelslike\", \"humidity\", \"windspeed\".\n",
    "    \n",
    "4. Use the list to select a subset, X, of the original DataFrame \n",
    "\n",
    "5. Use the python syntax below to show the pearson correlaion matrix\n",
    "\n",
    "6. Use the list to select a subset, y, of the original DataFrame: \n",
    "    Y is \"riders\"\n",
    "\n",
    "7. Split X and y into training and testing sets \n",
    "\n",
    "8. Create a linear regression function and fit the model from the training data, and test using the testing data.\n",
    "\n",
    "9. Check the coeffiecient.\n",
    "\n",
    "10. Visulize the residuals of training and testing model \n",
    "\n",
    "```python\n",
    "# Create a Python list of feature names\n",
    "FeatureNames = [\"season\", \"month\", \"hour\", \"holiday\", \"weekday\", \"workingday\",\n",
    "    \"weather\", \"temp\", \"feelslike\", \"humidity\", \"windspeed\"]\n",
    "    ```\n",
    "```python\n",
    "# Select a subset, X, of the original DataFrame \n",
    "X = data[FeatureNames]\n",
    "```\n",
    "\n",
    "```python\n",
    "# visualization\n",
    "visualizer = Rank2D(algorithm=\"pearson\")\n",
    "visualizer.fit_transform(X)\n",
    "visualizer.poof()\n",
    "```\n",
    "```Python\n",
    "Y = data[\"riders\"]\n",
    "```\n",
    "```Python\n",
    "#Split X and y into training and testing sets \n",
    "X_train, X_test, y_train, y_test = train_test_split(X, y, random_state=1)\n",
    "```\n",
    "```Python\n",
    "# Linear Regression Model\n",
    "linreg = LinearRegression()\n",
    "# fit the model to the training data (learn the coefficients)\n",
    "linreg.fit(X_train, y_train)\n",
    "\n",
    "# make predictions on the testing set\n",
    "y_pred = linreg.predict(X_test)\n",
    "\n",
    "# Check the coeffiecient\n",
    "linreg.coef_\n",
    "```\n",
    "\n",
    "\n",
    "```python\n",
    "#Visulize the residuals of training and testing model\n",
    "visualizer = ResidualsPlot(linreg)\n",
    "visualizer.fit(X_train, y_train)  # Fit the training data to the model\n",
    "visualizer.score(X_test, y_test)  # Evaluate the model on the test data\n",
    "visualizer.poof()                 # Draw/show/poof the data\n",
    "```\n",
    "Exercise 2\n",
    "\n",
    "```python\n",
    "from sklearn.datasets import load_breast_cancer\n",
    "# Load dataset\n",
    "data = load_breast_cancer()\n",
    "# Organize our data\n",
    "y_names = data['target_names']\n",
    "y = data['target']\n",
    "feature_names = data['feature_names']\n",
    "X = data['data']\n",
    "# Split our data\n",
    "from sklearn.model_selection import train_test_split\n",
    "X_train, X_test, y_train, y_test = train_test_split(X,y,test_size=0.33,random_state=42)\n",
    "#fit Gaussian Naive model\n",
    "gnb = GaussianNB()\n",
    "cm = ConfusionMatrix(gnb, classes=y_names, label_encoder={0:'malignant', 1: 'benign'}  )\n",
    "# Fit fits the passed model. This is unnecessary if you pass the visualizer a pre-fitted model\n",
    "cm.fit(X_train, y_train)\n",
    "# To create the ConfusionMatrix, we need some test data. Score runs predict() on the data\n",
    "# and then creates the confusion_matrix from scikit-learn.\n",
    "cm.score(X_test, y_test)\n",
    "# How did we do?\n",
    "cm.poof()\n",
    "```\n",
    "\n",
    "Exercise 3\n",
    "```python\n",
    "#heirotical single method\n",
    "# Create clusters\n",
    "hc = AgglomerativeClustering(n_clusters=2, affinity = 'euclidean', linkage = 'single')\n",
    "# save clusters for chart\n",
    "cluster_moon['cluster_single'] = hc.fit_predict(x)\n",
    "cluster_moon.head(n=10)\n",
    "# plot the output\n",
    "plt.scatter(cluster_moon['x'], cluster_moon['y'],c=cluster_moon['cluster_single'], cmap = 'rainbow')\n",
    "plt.xlabel('x')\n",
    "plt.ylabel('y')\n",
    "plt.show()\n",
    "```"
   ]
  },
  {
   "cell_type": "code",
   "execution_count": null,
   "metadata": {},
   "outputs": [],
   "source": [
    "data =  pd.read_csv(\"bikeshare.csv\")"
   ]
  },
  {
   "cell_type": "code",
   "execution_count": null,
   "metadata": {},
   "outputs": [],
   "source": [
    "FeatureNames = [\"season\", \"month\", \"hour\", \"holiday\", \"weekday\", \"workingday\",\n",
    "    \"weather\", \"temp\", \"feelslike\", \"humidity\", \"windspeed\"]\n",
    "X=data[FeatureNames]\n",
    "visualizer = Rank2D(algorithm=\"pearson\")\n",
    "visualizer.fit_transform(X)\n",
    "visualizer.poof()\n",
    "y = data[\"riders\"]\n",
    "X_train, X_test, y_train, y_test = train_test_split(X, y, random_state=1)\n"
   ]
  },
  {
   "cell_type": "code",
   "execution_count": null,
   "metadata": {},
   "outputs": [],
   "source": [
    "#import the packages\n",
    "import pandas as pd\n",
    "#import model\n",
    "from sklearn.linear_model import LinearRegression\n",
    "from sklearn.model_selection import train_test_split\n",
    "from sklearn import metrics\n",
    "from yellowbrick.features import Rank2D\n",
    "from yellowbrick.regressor import ResidualsPlot"
   ]
  },
  {
   "cell_type": "code",
   "execution_count": null,
   "metadata": {},
   "outputs": [],
   "source": [
    "# Linear Regression Model\n",
    "linreg = LinearRegression()\n",
    "# fit the model to the training data (learn the coefficients)\n",
    "linreg.fit(X_train, y_train)\n",
    "\n",
    "# make predictions on the testing set\n",
    "y_pred = linreg.predict(X_test)"
   ]
  },
  {
   "cell_type": "code",
   "execution_count": null,
   "metadata": {},
   "outputs": [],
   "source": [
    "from yellowbrick.regressor import ResidualsPlot\n",
    "# Visualzie the training and fitting model and the residual histogram\n",
    "visualizer = ResidualsPlot(linreg)\n",
    "visualizer.fit(X_train, y_train)  # Fit the training data to the model\n",
    "visualizer.score(X_test, y_test)  # Evaluate the model on the test data\n",
    "visualizer.poof()                 # Draw/show/poof the data"
   ]
  },
  {
   "cell_type": "code",
   "execution_count": null,
   "metadata": {},
   "outputs": [],
   "source": []
  }
 ],
 "metadata": {
  "kernelspec": {
   "display_name": "Python 3",
   "language": "python",
   "name": "python3"
  },
  "language_info": {
   "codemirror_mode": {
    "name": "ipython",
    "version": 3
   },
   "file_extension": ".py",
   "mimetype": "text/x-python",
   "name": "python",
   "nbconvert_exporter": "python",
   "pygments_lexer": "ipython3",
   "version": "3.7.0"
  }
 },
 "nbformat": 4,
 "nbformat_minor": 2
}
